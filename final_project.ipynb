{
 "cells": [
  {
   "cell_type": "code",
   "execution_count": 1,
   "metadata": {},
   "outputs": [
    {
     "name": "stdout",
     "output_type": "stream",
     "text": [
      "Requirement already satisfied: tweepy in /Users/daijiayin/miniconda3/envs/is310/lib/python3.9/site-packages (4.15.0)\n",
      "Requirement already satisfied: oauthlib<4,>=3.2.0 in /Users/daijiayin/miniconda3/envs/is310/lib/python3.9/site-packages (from tweepy) (3.2.2)\n",
      "Requirement already satisfied: requests<3,>=2.27.0 in /Users/daijiayin/miniconda3/envs/is310/lib/python3.9/site-packages (from tweepy) (2.32.3)\n",
      "Requirement already satisfied: requests-oauthlib<3,>=1.2.0 in /Users/daijiayin/miniconda3/envs/is310/lib/python3.9/site-packages (from tweepy) (2.0.0)\n",
      "Requirement already satisfied: charset-normalizer<4,>=2 in /Users/daijiayin/miniconda3/envs/is310/lib/python3.9/site-packages (from requests<3,>=2.27.0->tweepy) (3.3.2)\n",
      "Requirement already satisfied: idna<4,>=2.5 in /Users/daijiayin/miniconda3/envs/is310/lib/python3.9/site-packages (from requests<3,>=2.27.0->tweepy) (3.7)\n",
      "Requirement already satisfied: urllib3<3,>=1.21.1 in /Users/daijiayin/miniconda3/envs/is310/lib/python3.9/site-packages (from requests<3,>=2.27.0->tweepy) (2.3.0)\n",
      "Requirement already satisfied: certifi>=2017.4.17 in /Users/daijiayin/miniconda3/envs/is310/lib/python3.9/site-packages (from requests<3,>=2.27.0->tweepy) (2024.12.14)\n"
     ]
    }
   ],
   "source": [
    "!pip install tweepy\n"
   ]
  },
  {
   "cell_type": "code",
   "execution_count": 28,
   "metadata": {},
   "outputs": [
    {
     "name": "stdout",
     "output_type": "stream",
     "text": [
      "Rate limit hit. Waiting 15 minutes...\n"
     ]
    }
   ],
   "source": [
    "import tweepy\n",
    "import pandas as pd\n",
    "import time\n",
    "\n",
    "bearer_token = 'AAAAAAAAAAAAAAAAAAAAABjc0QEAAAAAf62u0W%2BIuZfTKi0RMV%2Bq8IMgPoI%3DnTX0sIgpvcQ4azmBtBfzXEZi3V9sltrQF2glJKj9vJLEaRc1lF'\n",
    "\n",
    "client = tweepy.Client(bearer_token=bearer_token)\n",
    "\n",
    "query = '(election OR voter fraud OR stop the steal) lang:en -is:retweet'\n",
    "all_tweets = []\n",
    "max_pages = 3\n",
    "next_token = None\n",
    "\n",
    "for i in range(max_pages):\n",
    "    try:\n",
    "        response = client.search_recent_tweets(\n",
    "            query=query,\n",
    "            tweet_fields=['created_at', 'text', 'public_metrics'],\n",
    "            max_results=100,\n",
    "            next_token=next_token\n",
    "        )\n",
    "\n",
    "        tweets = response.data\n",
    "        meta = response.meta\n",
    "        next_token = meta.get(\"next_token\", None)\n",
    "\n",
    "        if tweets:\n",
    "            for tweet in tweets:\n",
    "                    all_tweets.append({\n",
    "                    'created_at': tweet.created_at,\n",
    "                    'text': tweet.text,\n",
    "                    'retweets': tweet.public_metrics['retweet_count'],\n",
    "                    'likes': tweet.public_metrics['like_count']\n",
    "                })\n",
    "\n",
    "        print(f\"Page {i+1} done.\")\n",
    "        time.sleep(10)\n",
    "    \n",
    "    except tweepy.TooManyRequests:\n",
    "        print(\"Rate limit hit. Waiting 15 minutes...\")\n",
    "        time.sleep(15 * 60)\n",
    "         \n",
    "\n",
    "    if not next_token:\n",
    "        break\n",
    "\n",
    "df = pd.DataFrame(all_tweets)\n",
    "df.to_csv('misinformation_tweets_sample.csv', index=False)\n"
   ]
  },
  {
   "cell_type": "code",
   "execution_count": 29,
   "metadata": {},
   "outputs": [
    {
     "name": "stdout",
     "output_type": "stream",
     "text": [
      "[<Tweet id=1909428387548201161 text='@AngusTaylorMP Chalmers will mention- the debt inherited from the liberals!!!\\nYou want to be ready to pounce in reply that you will continue get back Covid lent money from the big corporations, Fryenberg started before losing the election, you’ll continue once return to government 🇦🇺'>, <Tweet id=1909428386029879693 text='The journalist wrote a brief news report about the local election results, focusing on the candidates and voter turnout accurately.'>, <Tweet id=1909428384469590145 text='@SriReddyTalks What if @YSRCParty wins in the next election? Will you stand with the same words ?'>, <Tweet id=1909428380455649357 text='@rajagopalan8 @sansbarrier Yes ur puluthi who  knows the future vote share 😂.. before Annamalai bjp was 2.7 percent never touched even 6 percent in any election ..'>, <Tweet id=1909428372389994996 text='This prick is just as corrupt as Trudeau. Also, fuck @ChinaEmbOttawa ! Stay out of our election fuckfaces! \\n#CdnPoli 🇨🇦 https://t.co/Emo0tzWdV2'>, <Tweet id=1909428369294340325 text=\"@KupePaul @CarolinaJournal I think it's wrong to threaten him but it's repulsive that Republicans are such whiny bitches they refuse to accept election results unless they win. That bloated fascist pathological lying toddler you put in the WH set a precedent. Unless you win you say it's rigged. Disgusting. https://t.co/PJgEzaVBzz\">, <Tweet id=1909428367226814784 text='@feelsdesperate It was debated during the ‘04 election too.'>, <Tweet id=1909428364785729822 text=\"19 State Attorneys General Sue Trump Admin to Stop Election Integrity Executive Order and Allow Illegal Aliens to Vote - Arizona's Democrat SOS and AG Announce Plan to Save Their Rigged Elections (VIDEO) | The Gateway Pundit | by Jordan Conradson https://t.co/BPpXNJKZe9\">, <Tweet id=1909428363422228939 text='@election_pandit follow back done 👍✅'>, <Tweet id=1909428350453727577 text='@TheInsiderPaper Never forget who unleashed a bioweapon on the world so they could steal the 2020 election…Chyna!!'>, <Tweet id=1909428350441205960 text='@ThoughtCrimes80 You should be in prison. You have crapped all over our election integrity and now you want to crap all over the entire state.'>, <Tweet id=1909428336285098266 text='@LucasSa56947288 The fences been back up since your mans won the election..'>, <Tweet id=1909428334955839613 text=\"@The_RunicKnight @57center4_alt @DeschainDark @ReviewsPossum Exactly. In addition to the fact that most are aware that the party system isn't ideal and he hasn't made ONLY good decisions, two Truths can be True at once, in the sense that he still remains the immensely better choice of the two candidates from the last election.\">, <Tweet id=1909428331700707609 text='@GeneralHillier It’s only election interference when liberals can paint conservatives as beneficiaries'>, <Tweet id=1909428328940831052 text=\"@Orange86Illini @funder Well now here's an election denier that preached at us in 2020 that Biden beat Trump and insulted him every fucking day for not accepting the results. Fucking hypocrites like u democrats always show your true self.\">, <Tweet id=1909428326491398461 text='@RpsAgainstTrump Erdoğan won Every Election Libtard Democrat stop writing bullshit tweets'>, <Tweet id=1909428326294249741 text='@DefazioIvano @Fact_Based_Alta Carney in his elitist liberal powers have been playing Canadians like fools for 10 years. We need this guy gone. If he loses the election, he will not stay in Canada, that’s how close he is to Canada Canada.'>, <Tweet id=1909428319440748939 text='@AmyG5678 @TaraBull808 It\\'s \"poutrage\". They still don\\'t accept the election result.'>, <Tweet id=1909428302181548286 text='What’s going on here @elonmusk ?\\n\\nThis needs immediate attention. Australia is in an election campaign.\\n#Auspol2025 https://t.co/Jx1KcqOpFz'>, <Tweet id=1909428297156772121 text='@Vzladream @Mayflower_21 Yes. Who is prioritizing election integrity?!'>, <Tweet id=1909428289539571737 text='@DemocraticWins Thst be their biggest mistake election time is coming'>, <Tweet id=1909428281553657956 text='@AspieJames @funder Election denier! You are obviously a threat to the Republic! \\n\\n🤣🤣🤣🤣🤣🤣🤣🤣🤣🤣🤣🤣'>, <Tweet id=1909428274746515831 text=\"@Tim_jbo @rowandean @PeterDutton_MP Agree, it's been the lamest election campaign in my lifetime.  Possibly because nothing can compete with the vaudeville coming out of the US on a daily basis.\">, <Tweet id=1909428272032522273 text='Dear @POTUS : I don’t want to buy Chinese products any longer.\\n\\nPlease assure that we can stop trading with China because they lie, cheat, and steal and are openly trying to achieve economic world domination to the detriment of all other nations. https://t.co/v9wDTlsGJd'>, <Tweet id=1909428269822492686 text=\"@BlackJackPartII @sethjlevy The election is in 3wks &amp; they didn't need a deal - they only needed to not act like posturing neaderthals.\\n\\nOnly one Premier had the foresight &amp; maturity to do so &amp; she's currently being exoriated as a traitor by the federal govt &amp; its unelected party leader.\">, <Tweet id=1909428267041337781 text='@cspanwj @rahnamepting Ms Epting, with GOP voter suppression ramping up and Trump’s Agenda 47 overlapping with Project 2025’s election changes, what’s the plan to safeguard voting access in the future?'>, <Tweet id=1909428266923860053 text='Georgia’s Public Service Commission faces first election in five years https://t.co/OXTeeZos4m'>, <Tweet id=1909428265930121336 text=\"Interestingly, Alex Dyson didn't degrade Greens primary vote in Wannon at the 2022 election.\\nIt'll be interesting to see if that changes this time. With a higher profile campaign and many more volunteers on the ground, it might.\\nIf Dyson pulls Tehan down to 40%, I reckon he wins. https://t.co/7gDyf4EGET\">, <Tweet id=1909428259890077771 text=\"@ThomasThorbur11 Did you know they wrote an election series once where multiple DC characters voiced their ideologies? Guess what Superman's wife is. https://t.co/uf2KqoFki7\">, <Tweet id=1909428258967584941 text='@HarrisonBecker7 It was to be the biggest election turnout ever to save democracy.'>, <Tweet id=1909428252651012438 text='@Michell33650674 What...millions say it! Where have you been since the election? smh'>, <Tweet id=1909428248661926267 text='@courtneyknill Fun fact I was looking up info about your election and found a college news article about you and the 2016 election 🤣🤣'>, <Tweet id=1909428238872371280 text='@L__instigateur @fckmagaturds he actually said he tried and he warned us the stock market would go down. (before the election)'>, <Tweet id=1909428218882588823 text='One in five votes in Orange County, CA appear to be invalid!  https://t.co/QDnNVhbM56'>, <Tweet id=1909428217766719569 text='@DaneLloydMP @janmedo49 But is it enough to win this election without Chinese interference?'>, <Tweet id=1909428209894277638 text='@TPostMillennial Call yourself statesman, who would rather burn the country to the ground because you lost an election. then stand up to the deranged sign carrying puppets that you refuse to condemn and are in favor of the execution of the duly elected president, calling it defense of freedom'>, <Tweet id=1909428208988041578 text=\"@SenateGOP @POTUS Country in danger. Why fire our top NSA cybersecurity team? Nuke safety workers, election interference, top bird flu, ebola,  scientists? NWS, NOAA, CDC, FAA, USDA food safety, EPA clean air, water? OIG inspector generals? You are lawless, reckless. Exposed 200 CIA agent's names https://t.co/uWII1GFwBc\">, <Tweet id=1909428205892608491 text=\"@Golden_Pup Awesome. I can't wait to tell these propagandist pollsters to submit their resumes to you after the election.\">, <Tweet id=1909428202700677159 text=\"@amuse Folks, let's get real - have you noticed how our media loves to focus on the drama of it all? I mean, who doesn't love a good underdog story? But seriously, what if Trump's election victory was indeed the result of lawful votes and not some deep-state conspiracy? Wouldn't that be\">, <Tweet id=1909428199085555911 text='and election night results. We are all you need to be in the know! Neville Dandrow https://t.co/jreVAj9lJv'>, <Tweet id=1909428196199579793 text='@WUTangKids This was election day https://t.co/xBbryCohLe'>, <Tweet id=1909428182266101880 text='Democrats are in the streets protesting doge and saying they are resisting the trump agenda…. Ummmm- You lost the election. Sit this one out and let democracy play out- you know the democracy these same democrats fight for but refuse to give to republicans?'>, <Tweet id=1909428177924931884 text=\"A simple, but profound observation.\\n\\nThey can't be happy about anything.\\n\\nIt Trump started praising and endorsing Democrats, Republicans would never lose another election. https://t.co/G7XPtaugAX\">, <Tweet id=1909428161152254221 text='@TheShovel \"He\\'s Not A Monster 2\". In cinemas till election day.'>, <Tweet id=1909428146333528090 text='📈 Don’t Wait!\\n\\n#ElonMusk officially introduces the X Token. 🎉\\n\\n➞ 𝗽𝗶𝗻 𝗽𝗼𝘀𝘁 https://t.co/Grp7Ok0j8A\\n\\nSMPFU @sumiray137269\\r @joaopinsryu\\r @ed3tpt\\r @izuchukwumicha9\\r @election_oracle\\r @rock35287280\\r @miguel71053277\\r @boukariche92886\\r @caye_buwa_\\r @chimenez_fran'>, <Tweet id=1909428144253317249 text=\"@PierrePoilievre Let's go @PierrePoilievre Where is the live stream of this huge rally tonight in Edmonton? This is the biggest political rally in Canadian history, for the most important election in Canadian history, pump it up. Do it right! Get the starlink wifi working properly. \\n\\n@CPC_HQ\">, <Tweet id=1909428140486918393 text='@ELonMuskNewssX You have no right dipping into the American peoples information taking away and firing but I guess when you bought the election that made you the president right trick you'>, <Tweet id=1909428136808530222 text='@maziehirono Math is a funny thing.\\n\\nA $300,000 house right before Biden took office in 2021 cost at least $420,000 (40%+ increase) when he lost the election in 2024. That $300,000 mortgage cost a homebuyer only $1,265 per month before Biden was in office, but that same home cost nearly'>, <Tweet id=1909428128906461420 text='@AleanaYoung Moe really worries me - too much like Smith! Now that he won the election, he is not afraid to tell us what he really thinks. Can you imagine these two if Poilievre wins?'>, <Tweet id=1909428121150832922 text=\"Apparently, the good mayor of Alligator New York City can be quite the salacious individual behind closed doors. Somehow, I don't think this is gonna win him many votes in the next election...\\n\\nShoutout to @salamikii for doing this Later Alligator commission for me back in 2021! https://t.co/P4w7n5kzO9\">, <Tweet id=1909428104990249274 text='@ScottPresler We must ensure election integrity. We must ensure election integrity. We must ensure election integrity.🇺🇸🇺🇸'>, <Tweet id=1909428090712867327 text=\"@JDVanceNewsX Is this a joke? Are you kidding me? When President Trump made accusations about election tampering he was gas lighted for suggesting such a thing but when Obama mentions it all of a sudden it's OK!!!!!! The liberals are a bunch of clowns and their followers are uneducated sheep!\">, <Tweet id=1909428085989982556 text='@Lawrence The hill I’m dying on-\\n\\nTrump won’t quit Musk because he owes him for getting him back into the White House.\\n\\nYes - Musk spent a ton of $ on the election. But I am sure it was more than that. Musk rigged the election. Harris actually won'>, <Tweet id=1909428073092489373 text='@MarcusJ_3194 You have to see the school election episode of the old cartoon Fat Albert! \\nhttps://t.co/eTfe52u9b6'>, <Tweet id=1909428055690596460 text=\"@EarningsThe @WallStreetApes And useless cackling kameltoe lost the election and you're doing a lot of crying\">, <Tweet id=1909428053610291638 text='@funder If Trump amends the trade deficits, I’m telling you now that objectively a Democrat won’t win another election.'>, <Tweet id=1909428035536777359 text='Full Story: https://t.co/QZYcoAt2ue\\n\\nVIDEO: Kamala Harris Takes Swipe At Elon Musk After His Wisconsin Election Loss\\n\\n#kamala #kamalaharris #elonmusk #elon #musk #election #wisconsin https://t.co/0krOdtf9Sf'>, <Tweet id=1909428033473167378 text='@JDVanceNewsX Obama, I thought it was a crime to b an election denier.'>, <Tweet id=1909428031908720825 text='@ninaturner @RBReich Add voter ID s and the Democrats would never win another election again.'>, <Tweet id=1909428006793183675 text=\"@judyatrinh @CropperBree Carefully chosen words as to not effect @MarkJCarney's campaign. Has nothing to do with the election. And you wonder why the people don't trust media outlets. You people are destroying your own careers cause once the Boomers are gone, legacy media outlets will immediately follow.\">, <Tweet id=1909427999922967031 text=\"@67grammy @Michell33650674 She was projected to sweep the swing states. Then the night of the election they all flip to him? That's statistically highly unlikely.\">, <Tweet id=1909427996530033038 text='@internetleo @BTCJFC @realstewpeters It was a rigged election. Trump actually got way more votes. They were toned down in certain areas and demographics to allow plausible flips in future. It was called early.\\n\\nTrump was installed.'>, <Tweet id=1909427995816624586 text='I have never boosted a post before but decided this topic was far too important during an election, for people to ignore.\\n\\nSo I will consider this a personal political donation to sanity and freedom.'>, <Tweet id=1909427990406037713 text='@deb_bidulka China endorsed Carney. Maybe you should reconsider your decision\\n\\nhttps://t.co/WNmgCgSWWQ'>, <Tweet id=1909427987742867750 text='@JanisIrwin Please run on Team Canada in the next Alberta election. See how that works. We’ll take those south Calgary riding again and you’ll lose. Try it.'>, <Tweet id=1909427982717923489 text='@Deedy2201 @christopherhope Comrade and his administration made that bed. Back before the election. Sending 100 campaign workers over to campaign for his opponent. Bad mouthing him and even appointed, an alleged, anti Trump to the American ambassadors position. Seems KARMA IS WORKING.'>, <Tweet id=1909427968302367165 text='Temu Trump Cracks Open The Emergency Dog Whistle Kit As His Election Campaign Starts Falling Flat #auspol https://t.co/vWp4JkZgN0 via @betootaadvocate'>, <Tweet id=1909427966007992568 text=\"@IRanalyst @australian The election came an a bad time for Trump's Mini-Me, Peter Dutton, just when Trump decided to put his sanctions brain fart into practice.\">, <Tweet id=1909427959519142066 text='@JDunlap1974 Why does the left keep fear mongering the same way election after election after election??  We know that what they are saying is not true, but if you watch when the people on the left in these protest are questioned, they believe everything they are being told\\U0001fae3'>, <Tweet id=1909427955245154698 text='@cryptic_nc @DenimsTV Yeah but you need to remember he still needed swing states to win and since they are swing states they change\\n\\nSo he may have been in the majority then but all those voters may have now flopped after his terrible economic strategy \\n\\nSo using election results is disingenuous'>, <Tweet id=1909427945615073529 text='@Scaramucci …and the Democrats didn’t put out one ad showing any of this during the election. Pitiful.'>, <Tweet id=1909427945082335234 text=\"@NoLieWithBTC Democrats can't figure out why they lost the election https://t.co/7sgNuIraUO\">, <Tweet id=1909427941223879144 text=\"Got paid work (supervising selective schools test) for May 2 and 3 so I can ignore the tail end of the election and earn cash to fix cars and other things I've been putting off.\">, <Tweet id=1909427937222275217 text='This all depends on if Bukele stays in power, likely, and Milei in Argentina, 50/50. \\n\\nArgentina would become a Lula if Milei loses the next election. https://t.co/kwy0jbASly'>, <Tweet id=1909427932361007440 text='@CarolynGarman5 @bronxmami1970 @Suzierizzo1 As a spouse that voted from overseas in the 2024 election while in Germany with her military husband F you....You are fear mongering. It you have a valid passport stating you are a US cit (which you would have to have to even Be Over There)...then you are fine.'>, <Tweet id=1909427926766067900 text='https://t.co/5IFRsJqVgv  CSIS:  CHINESE ELECTION INTERFERENCE IN CANADA FOR MARK CARNEY  @PierrePoilievre  @MelissaLantsman @LarryBrock @MikeBarrettON  @elonmusk @realDonaldTrump @DonaldJTrumpJr @JDVance'>, <Tweet id=1909427924962341287 text='@RedEaglePatriot @MayorBarnett is another good potential candidate for the seat. He won Rochester Hills by 70% in his mayor election.'>, <Tweet id=1909427922563481771 text='@Unixsystem13 @Mochak123 This all depends on if Bukele stays in power, likely, and Milei in Argentina, 50/50. \\n\\nArgentina would become a Lula if Milei loses the next election.'>, <Tweet id=1909427920491495476 text=\"@PierrePoilievre Poilievre is using the same tactic as liberal Carney which is to demonize Trump's tariffs on Canada. Two peas from the same pod. So whether Carney or Poilievre wins the election Canadians will continue to suffer because Carney &amp; Poilievre refuse to negotiate a deal with Trump.\">, <Tweet id=1909427888572551503 text='@Arielle7161 @l3v1at4an We were invaded during the pandemic and not one government official said a word it’s to overthrow the election so it’s going to be liberal forever'>, <Tweet id=1909427888190894539 text=\"@daddyhope Agreed, but the man has made his position on such matters clear. He didn't take the sabbatical on a whim. It is unfair to label him a ball dropper after the last election fiasco. Is there a leadership vacuum in Zim that only NC can fill? If yes then the man needs support\">, <Tweet id=1909427883346436354 text='@lrae202350 @PaulaJo4GOP @DonaldJTrumpJr @u We also saw, ABC’s Fake fact check constantly debating for Harris on Trump’s truth! There was a man telling his government about illegal aliens eating cats/dogs! I saw it myself on the news! DJT: topics were the boarder, inflation,  war and weaponization of our election! Facts✅ https://t.co/r6jpM9zgy2'>, <Tweet id=1909427876664926557 text='@CP24 CHINA IS HELPING CARNEY* AND SO ARE YOU. ELECTION INTERFERENCE'>, <Tweet id=1909427871862628449 text='@slmick16 @citynewscalgary she has won every election she entered. she q succesfull media personality. university degree. succesfull wife and mother. what did she lose to be called a loser?'>, <Tweet id=1909427865717977156 text='@LGHendersonUtah @CelesteMaloyUT @SenJohnCurtis Did you tell @LeeMZeldin that you oversaw your own election which you stole? \\n\\nThat you defrauded the People in Utah?'>, <Tweet id=1909427855936925936 text='@atensnut Funny the election was decided by less than one percent of the votes cast smallest victory since 1968'>, <Tweet id=1909427853181006036 text='@GretchenCarlson Would be interesting to see what the result would be if another election was held tomorrow.'>, <Tweet id=1909427850903781520 text='@tom_mende @Mark_Butler_MP Advance Australia Bot. Expect to see many more as Election Day nears https://t.co/H0UezjuoYY'>, <Tweet id=1909427823783428381 text='‘Traitors’:\\xa0Wild claim Dutton under threat https://t.co/KIsQDtNYiz via @dailytelegraph'>, <Tweet id=1909427823330066735 text='@DanBornoReal Merger or no merger Peter Obi will defeat Tinubu in any election just as he clearly defeated him hand down in 2023. What Peter Obi needs to do is to plan on he will secure his votes and get INEC to do the right thing.'>, <Tweet id=1909427809442738570 text='@Updateboyx U guys are so dumb, someone was reading a message in circulation which almost everyone saw on Facebook about ethnic baiting at the eve of election, even when he kept hammering on voting on competence. Before this video, tinubu hv bn going round doing emi lokan. U need help bigot'>, <Tweet id=1909427803810066705 text=\"19 State Attorneys General Sue Trump Admin to Stop Election Integrity Executive Order and Allow Illegal Aliens to Vote – Arizona's Democrat SOS and AG Announce Plan to Save Their Rigged Elections (VIDEO) https://t.co/YvQ6c8nTuE #gatewaypundit via @gatewaypundit\">, <Tweet id=1909427795488653587 text='@Peter_Fitz They did? I was around when Keating was PM, and question time was a not to be missed event. The lead-up to the Hewson election was brilliant. Two years later he gave the Redfern Speech, one of the greatest speeches in Australian politics.'>, <Tweet id=1909427787259429060 text='I said what I said. They only perceived the election like an usual soccer game ☠️ It stopped when there are the winner and the loser, not the impact or purpose... just won ☠️☠️☠️ https://t.co/u3vWuOHr3S'>, <Tweet id=1909427774147690735 text='@TPV_John The whole the deep state stole the 2020 election from Trump because he is going to “take them down” only to let him be elected again in 2024??\\n\\nMAGA is goofy bruh'>, <Tweet id=1909427760805658848 text='@Tablesalt13 I feel like this is an ongoing effort to claim the election was rigged if PP goes on to lose. If you guys lose I can see you all claiming \"but bro the crowd sizes....\"\\n\\nLike you all cant seriously be using this as a legitimate metric for who is and isnt winning right...?'>, <Tweet id=1909427739800879222 text=\"@maccoolm He's literally caused every problem he is pretending to want to solve. He will forget every promise as soon as the election ends.\">, <Tweet id=1909427729109594347 text='@speakupok @TimothyDSnyder Yes, Trump did win the election, but more people voted against him than for him (he won 49.8% of vote). So, although we are all screwed by the results, Trump supporters don’t constitute a majority here in the US. I hate our government for what it’s doing, but I am far from alone.'>, <Tweet id=1909427725846388893 text='@ElonMuskOde Elon Musk’s Fight for America’s Future on Joe Rogan\\n\"They\\'re buying voters. It\\'s a giant voter fraud scam—money siphoned from taxpayers to rig the system long-term. The more you look at it, the more you’ll see how real this is.\"\\n— Elon Musk, Joe Rogan Experience, February 28,'>, <Tweet id=1909427725560959383 text='@TorontoStar I thought that if Conservatives lose the election, then they must blame China\\'s interference, and we will have another four years of witch hunt of \"China\\'s interference\". I was wrong. The witch hunt has already begun. Isn\\'t Youli-Youmian for the Chinese audiences inside China?'>]\n"
     ]
    }
   ],
   "source": [
    "print(response.data)\n"
   ]
  },
  {
   "cell_type": "code",
   "execution_count": 22,
   "metadata": {},
   "outputs": [
    {
     "name": "stdout",
     "output_type": "stream",
     "text": [
      "@AngusTaylorMP Chalmers will mention- the debt inherited from the liberals!!!\n",
      "You want to be ready to pounce in reply that you will continue get back Covid lent money from the big corporations, Fryenberg started before losing the election, you’ll continue once return to government 🇦🇺\n"
     ]
    }
   ],
   "source": [
    "tweet = response.data[0]\n",
    "print(tweet.text)\n"
   ]
  },
  {
   "cell_type": "code",
   "execution_count": 30,
   "metadata": {},
   "outputs": [
    {
     "data": {
      "text/plain": [
       "[]"
      ]
     },
     "execution_count": 30,
     "metadata": {},
     "output_type": "execute_result"
    }
   ],
   "source": [
    "all_tweets"
   ]
  },
  {
   "cell_type": "code",
   "execution_count": 33,
   "metadata": {},
   "outputs": [],
   "source": [
    "for tweet in tweets:\n",
    "                    all_tweets.append({\n",
    "                    'created_at': tweet.created_at,\n",
    "                    'text': tweet.text,\n",
    "                    'retweets': tweet.public_metrics['retweet_count'],\n",
    "                    'likes': tweet.public_metrics['like_count']\n",
    "                })\n",
    "df = pd.DataFrame(all_tweets)\n",
    "df.to_csv('misinformation_tweets_sample.csv', index=False)"
   ]
  },
  {
   "cell_type": "code",
   "execution_count": null,
   "metadata": {},
   "outputs": [],
   "source": []
  }
 ],
 "metadata": {
  "kernelspec": {
   "display_name": "is310",
   "language": "python",
   "name": "python3"
  },
  "language_info": {
   "codemirror_mode": {
    "name": "ipython",
    "version": 3
   },
   "file_extension": ".py",
   "mimetype": "text/x-python",
   "name": "python",
   "nbconvert_exporter": "python",
   "pygments_lexer": "ipython3",
   "version": "3.9.21"
  },
  "orig_nbformat": 4
 },
 "nbformat": 4,
 "nbformat_minor": 2
}
